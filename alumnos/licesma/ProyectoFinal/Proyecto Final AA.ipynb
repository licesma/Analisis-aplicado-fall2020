{
 "cells": [
  {
   "cell_type": "markdown",
   "metadata": {},
   "source": [
    "En este notebook vamos a probar la clase hecha para el proyecto final. Voy a definir la función de las cámaras."
   ]
  },
  {
   "cell_type": "code",
   "execution_count": 1,
   "metadata": {},
   "outputs": [],
   "source": [
    "import pandas as pd\n",
    "import numpy as np\n",
    "from numpy import linalg as la"
   ]
  },
  {
   "cell_type": "code",
   "execution_count": 92,
   "metadata": {},
   "outputs": [],
   "source": [
    "class Optimizador:\n",
    "    epsilon = 0.00001\n",
    "    max_iter = 100000\n",
    "    def __init__(self, epsilon = 0.00001, max_iter = 10000):\n",
    "        self.epsilon = epsilon\n",
    "        self.max_iter = max_iter\n",
    "        self.printInstrucciones()\n",
    "    def printInstrucciones(self):\n",
    "        print('Para optimizar una función usa el método optimiza, donde f representa la función a optimizar, dimensión\\nrepresenta el tamaño del dominio de f, y Tipo representa el método a utilizar.')\n",
    "\n",
    "        print('Tipo == 0 utilizará BFGS')\n",
    "        print('Tipo == 1 utilizará una búsqueda lineal base')\n",
    "        print('Tipo == 2 utilizará el método de Newton con modificación a la Hessiana')\n",
    "        print('Tipo == 3 utilizará el método de Newton')\n",
    "    def optimiza(self, f, dimension, tipo):\n",
    "        x = np.zeros(dimension)\n",
    "        if tipo == 0 : # BFGS\n",
    "            return self.BFGS(f,x)\n",
    "        elif tipo == 1: #Line Base\n",
    "            return self.newton_line_base(f,x)\n",
    "        elif tipo == 2: #Newton with modification\n",
    "            return self.newton_mH(f,x)\n",
    "        elif tipo == 3:\n",
    "            return self.newton(f,x)\n",
    "        else:\n",
    "            print('\\nTipo no valido')\n",
    "            self.printInstrucciones()\n",
    "    def derivada_parcial(self,f, xk, pos):\n",
    "        eps = 0.0001\n",
    "        n = xk.size\n",
    "        h = np.zeros(n)\n",
    "        h[pos] += eps\n",
    "        return (f(xk + h) - f(xk)) / eps\n",
    "\n",
    "    def derivada(self, f, xk):\n",
    "        return (f(xk + self.epsilon) - f(xk))/self.epsilon\n",
    "\n",
    "    def gradiente(self, f, xk):\n",
    "        n = xk.size\n",
    "        res = np.zeros(n)\n",
    "        for i in range(n):\n",
    "            res[i] = self.derivada_parcial(f, xk, i)\n",
    "        return res\n",
    "\n",
    "    def segunda_derivada(self, f, xk, pos1, pos2):\n",
    "        n = xk.size\n",
    "        h = np.zeros(n)\n",
    "        h[pos2] += self.epsilon\n",
    "\n",
    "        def f_prima(x):\n",
    "            return self.derivada_parcial(f, x, pos1)\n",
    "\n",
    "        return self.derivada_parcial(f_prima, xk, pos2)\n",
    "\n",
    "    def hessiana(self, f, xk):\n",
    "        n = xk.size\n",
    "        res = np.zeros((n, n))\n",
    "        for i in range(n):\n",
    "            for j in range(i, n):\n",
    "                res[i][j] = self.segunda_derivada(f, xk, i, j)\n",
    "                res[j][i] = res[i][j]\n",
    "        return res\n",
    "\n",
    "    def is_pos_def(self, H):\n",
    "        return np.all(np.linalg.eigvals(H) > self.epsilon)\n",
    "\n",
    "    def condiciones_optimalidad(self, f, xk):\n",
    "        if (np.all(self.gradiente(f, xk) >= self.epsilon)):\n",
    "            return self.is_pos_def(self.hessiana(f, xk))\n",
    "        return False\n",
    "\n",
    "    def mk(self, f, xk, p):\n",
    "        pt = p.transpose()\n",
    "        return f(xk) + pt.dot(self.gradiente(f, xk)) + .5 * (pt.dot((self.hessiana(f, xk)).dot(p)))\n",
    "\n",
    "\n",
    "    def backtracking_line_search(self, f, xk, p, c=.001, ro=.5):\n",
    "        alpha = 1;\n",
    "        f_k = f(xk)\n",
    "        gr = self.gradiente(f, xk)\n",
    "        while f(xk + alpha * p) > f_k + c * alpha * gr.dot(p):\n",
    "            alpha *= ro;\n",
    "        return alpha\n",
    "    def make_pos_def(self,H):\n",
    "        n = H.shape[0]\n",
    "        Id = np.identity(n)\n",
    "        t = self.epsilon\n",
    "        while(not self.is_pos_def(H)):\n",
    "            H = H + t*Id\n",
    "            t= 2*t\n",
    "        return H\n",
    "\n",
    "    def zoom(self, a_low, a_high, phi, num=0, c1=0.0001, c2=0.9):\n",
    "        a_mid = (a_high + a_low)/2\n",
    "        if 20 < num:\n",
    "            return a_mid\n",
    "        if(phi(0) + c1*a_mid*(self.derivada(phi,0)) < phi(a_mid)) or (phi(a_low) <= phi(a_mid)):\n",
    "            return self.zoom(a_low, a_mid, phi, num+1)\n",
    "        else:\n",
    "            if abs(self.derivada(phi, a_mid)) <= (-1)*c2*self.derivada(phi,0):\n",
    "                return a_mid\n",
    "            if 0 <= self.derivada(phi, a_mid)*(a_high - a_low):\n",
    "                a_high = a_low\n",
    "            return self.zoom(a_mid, a_high, phi, num+1)\n",
    "\n",
    "\n",
    "    def BFGS(self, f, xk):\n",
    "        #tomamos H0 simplemente como la identidad, como sugiere el Nocedal.\n",
    "        n = xk.size\n",
    "        Id = np.identity(n)\n",
    "        Hk = Id\n",
    "        gr = self.gradiente(f,xk)\n",
    "        count = 0\n",
    "        while self.epsilon < la.norm(gr) and count < self.max_iter:\n",
    "            count = count +1\n",
    "            pk = (-1)*Hk.dot(gr)\n",
    "            al = self.backtracking_line_search(f,xk,pk)\n",
    "            xk_n = xk + al*pk\n",
    "            gr_n = self.gradiente(f,xk_n)\n",
    "            sk = np.array([xk_n - xk])\n",
    "            yk = np.array([gr_n-gr]) #hago yk una matriz de n*1\n",
    "            yk = yk.T #transpongo para que sean vector columna\n",
    "            sk = sk.T\n",
    "            if ((yk.T).dot(sk))[0][0] < self.epsilon:\n",
    "                ro = 1/self.epsilon\n",
    "            else:\n",
    "                ro = 1 /(((yk.T).dot(sk))[0][0])\n",
    "            Hk = (Id + ((-1)*ro*sk).dot(yk.T)).dot(Hk).dot(Id + ((-1)*ro*yk).dot(sk.T)) + (ro*sk).dot(sk.T)\n",
    "            xk = xk_n\n",
    "            gr = gr_n\n",
    "        return xk\n",
    "\n",
    "\n",
    "\n",
    "    def newton_mH(self, f, x):\n",
    "        eps = 0.0001\n",
    "        n = 1000\n",
    "        for i in range(self.max_iter):\n",
    "            B = self.make_pos_def(self.hessiana(f, x))\n",
    "            gr = self.gradiente(f, x)\n",
    "            p = np.linalg.solve(B, -1 * gr)\n",
    "\n",
    "            alpha = self.backtracking_line_search(f, x, p)\n",
    "            x += alpha * p\n",
    "        return x\n",
    "\n",
    "    def newton (self, f, x):\n",
    "        for i in range(self.max_iter):\n",
    "            B = self.hessiana(f, x)\n",
    "            gr = self.gradiente(f, x)\n",
    "            p = np.linalg.solve(B, -1 * gr)\n",
    "            alpha = self.backtracking_line_search(f, x, p)\n",
    "            x += alpha * p\n",
    "        return x\n",
    "\n",
    "    def line_base(self, f, xk, p, c1=0.0001, c2=0.9):\n",
    "        def phi(al):\n",
    "           return f(xk + al*p)\n",
    "        al1 = 0\n",
    "        al_max = 100\n",
    "        al2 = al_max /2\n",
    "        for i in range (50):\n",
    "            if (phi(0) + c1*al2*self.derivada(phi,0) < phi(al2))  or  (0 < i and phi(al1) <= phi(al2)):\n",
    "                return self.zoom(al1, al2, phi)\n",
    "            if abs(self.derivada(phi, al2)) <= (-1)*c2*self.derivada(phi,0):\n",
    "                return al2\n",
    "            if(0 <= self.derivada(phi,al2)):\n",
    "                return self.zoom(al2, al1, phi)\n",
    "            al1 = al2\n",
    "            al2 = (al_max + al1)/2\n",
    "        return al2\n",
    "\n",
    "    def newton_line_base(self, f, x):\n",
    "        eps = 0.0001\n",
    "        n = 1000\n",
    "        for i in range(self.max_iter):\n",
    "            B = self.hessiana(f, x)\n",
    "            gr = self.gradiente(f, x)\n",
    "            p = np.linalg.solve(B, -1 * gr)\n",
    "            alpha = self.line_base(f, x, p)\n",
    "            x += alpha * p\n",
    "        return x\n"
   ]
  },
  {
   "cell_type": "code",
   "execution_count": 93,
   "metadata": {},
   "outputs": [
    {
     "name": "stdout",
     "output_type": "stream",
     "text": [
      "Para optimizar una función usa el método optimiza, donde f representa la función a optimizar, dimensión\n",
      "representa el tamaño del dominio de f, y Tipo representa el método a utilizar.\n",
      "Tipo == 0 utilizará BFGS\n",
      "Tipo == 1 utilizará una búsqueda lineal base\n",
      "Tipo == 2 utilizará el método de Newton con modificación a la Hessiana\n",
      "Tipo == 3 utilizará el método de Newton\n"
     ]
    }
   ],
   "source": [
    "op = Optimizador()"
   ]
  },
  {
   "cell_type": "markdown",
   "metadata": {},
   "source": [
    "Ahora vamos a probar la clase con la función de Rosenbrock con distintos parámetros y obviamente con los distinos métodos."
   ]
  },
  {
   "cell_type": "code",
   "execution_count": 94,
   "metadata": {},
   "outputs": [],
   "source": [
    "def rosenbrock(x, a = 1, b = 100):\n",
    "    # x pertenece a R2\n",
    "    return (a - x[0])**2 + b*(x[1] - x[0]**2)**2;"
   ]
  },
  {
   "cell_type": "markdown",
   "metadata": {},
   "source": [
    "## BFGS"
   ]
  },
  {
   "cell_type": "code",
   "execution_count": 95,
   "metadata": {},
   "outputs": [
    {
     "data": {
      "text/plain": [
       "array([0.97136253, 0.94349515])"
      ]
     },
     "execution_count": 95,
     "metadata": {},
     "output_type": "execute_result"
    }
   ],
   "source": [
    "op.optimiza(rosenbrock,2,0)"
   ]
  },
  {
   "cell_type": "markdown",
   "metadata": {},
   "source": [
    "Aquí vemos que se acerca bastante al resultado que esperabamos que era 1,1. Por lo tanto, BFGS funciona bien."
   ]
  },
  {
   "cell_type": "markdown",
   "metadata": {},
   "source": [
    "Cambiamos la función de Rosenbrock para el siguiente método"
   ]
  },
  {
   "cell_type": "markdown",
   "metadata": {},
   "source": [
    "## Búsqueda lineal base"
   ]
  },
  {
   "cell_type": "code",
   "execution_count": 98,
   "metadata": {},
   "outputs": [],
   "source": [
    "def rosenbrock(x, a = 1.5, b = 20):\n",
    "    # x pertenece a R2\n",
    "    return (a - x[0])**2 + b*(x[1] - x[0]**2)**2;"
   ]
  },
  {
   "cell_type": "code",
   "execution_count": 99,
   "metadata": {},
   "outputs": [
    {
     "data": {
      "text/plain": [
       "array([1.48813525, 2.21460945])"
      ]
     },
     "execution_count": 99,
     "metadata": {},
     "output_type": "execute_result"
    }
   ],
   "source": [
    "op.optimiza(rosenbrock,2,1)"
   ]
  },
  {
   "cell_type": "markdown",
   "metadata": {},
   "source": [
    "De igual manera, vemos que la Busqueda Lineal Base también funciona muy bien, el resultado que esperabamos era 1.5, 2.25.\n",
    "\n",
    "Volvemos a cambiar para probar Newton"
   ]
  },
  {
   "cell_type": "markdown",
   "metadata": {},
   "source": [
    "## Newton con modificación a la Hessiana"
   ]
  },
  {
   "cell_type": "code",
   "execution_count": 101,
   "metadata": {},
   "outputs": [],
   "source": [
    "def rosenbrock(x, a = 2, b = 25):\n",
    "    # x pertenece a R2\n",
    "    return (a - x[0])**2 + b*(x[1] - x[0]**2)**2;"
   ]
  },
  {
   "cell_type": "code",
   "execution_count": 102,
   "metadata": {},
   "outputs": [
    {
     "data": {
      "text/plain": [
       "array([1.9754972 , 3.90253918])"
      ]
     },
     "execution_count": 102,
     "metadata": {},
     "output_type": "execute_result"
    }
   ],
   "source": [
    "op.optimiza(rosenbrock,2,2)"
   ]
  },
  {
   "cell_type": "markdown",
   "metadata": {},
   "source": [
    "Vemos que también el método de Newton con modificación a la Hessiana funciona correctamente, como lo esperabamos, aquí queríamos 2,4 como resultado"
   ]
  },
  {
   "cell_type": "markdown",
   "metadata": {},
   "source": [
    "## Newton"
   ]
  },
  {
   "cell_type": "code",
   "execution_count": 104,
   "metadata": {},
   "outputs": [],
   "source": [
    "def rosenbrock(x, a =5, b = 10):\n",
    "    # x pertenece a R2\n",
    "    return (a - x[0])**2 + b*(x[1] - x[0]**2)**2;"
   ]
  },
  {
   "cell_type": "code",
   "execution_count": 105,
   "metadata": {},
   "outputs": [
    {
     "data": {
      "text/plain": [
       "array([ 4.94607556, 24.46361343])"
      ]
     },
     "execution_count": 105,
     "metadata": {},
     "output_type": "execute_result"
    }
   ],
   "source": [
    "op.optimiza(rosenbrock,2,3)"
   ]
  },
  {
   "cell_type": "markdown",
   "metadata": {},
   "source": [
    "Por último, el método de Newton sin modificar la Hessiana es un poco más inexacto pero también aproxima la solución bastante bien, ya que esperabamos 5,25"
   ]
  },
  {
   "cell_type": "markdown",
   "metadata": {},
   "source": [
    "Ahora sí, la prueba de fuego, el problema de las cámaras."
   ]
  },
  {
   "cell_type": "code",
   "execution_count": 2,
   "metadata": {},
   "outputs": [],
   "source": [
    "crime= pd.read_csv(\"crime_data.csv\")"
   ]
  },
  {
   "cell_type": "code",
   "execution_count": 3,
   "metadata": {},
   "outputs": [
    {
     "data": {
      "text/html": [
       "<div>\n",
       "<style scoped>\n",
       "    .dataframe tbody tr th:only-of-type {\n",
       "        vertical-align: middle;\n",
       "    }\n",
       "\n",
       "    .dataframe tbody tr th {\n",
       "        vertical-align: top;\n",
       "    }\n",
       "\n",
       "    .dataframe thead th {\n",
       "        text-align: right;\n",
       "    }\n",
       "</style>\n",
       "<table border=\"1\" class=\"dataframe\">\n",
       "  <thead>\n",
       "    <tr style=\"text-align: right;\">\n",
       "      <th></th>\n",
       "      <th>crime</th>\n",
       "      <th>date</th>\n",
       "      <th>hour</th>\n",
       "      <th>lat</th>\n",
       "      <th>long</th>\n",
       "    </tr>\n",
       "  </thead>\n",
       "  <tbody>\n",
       "    <tr>\n",
       "      <th>0</th>\n",
       "      <td>VIOLACION</td>\n",
       "      <td>2020-09-30</td>\n",
       "      <td>07:20</td>\n",
       "      <td>19.318714</td>\n",
       "      <td>-99.254418</td>\n",
       "    </tr>\n",
       "    <tr>\n",
       "      <th>1</th>\n",
       "      <td>VIOLACION</td>\n",
       "      <td>2020-09-29</td>\n",
       "      <td>22:30</td>\n",
       "      <td>19.378762</td>\n",
       "      <td>-99.205488</td>\n",
       "    </tr>\n",
       "    <tr>\n",
       "      <th>2</th>\n",
       "      <td>VIOLACION</td>\n",
       "      <td>2020-09-29</td>\n",
       "      <td>22:00</td>\n",
       "      <td>19.347971</td>\n",
       "      <td>-99.030162</td>\n",
       "    </tr>\n",
       "    <tr>\n",
       "      <th>3</th>\n",
       "      <td>VIOLACION</td>\n",
       "      <td>2020-09-29</td>\n",
       "      <td>23:30</td>\n",
       "      <td>19.557311</td>\n",
       "      <td>-99.134166</td>\n",
       "    </tr>\n",
       "    <tr>\n",
       "      <th>4</th>\n",
       "      <td>VIOLACION</td>\n",
       "      <td>2020-09-27</td>\n",
       "      <td>00:00</td>\n",
       "      <td>19.342125</td>\n",
       "      <td>-99.124280</td>\n",
       "    </tr>\n",
       "  </tbody>\n",
       "</table>\n",
       "</div>"
      ],
      "text/plain": [
       "       crime        date   hour        lat       long\n",
       "0  VIOLACION  2020-09-30  07:20  19.318714 -99.254418\n",
       "1  VIOLACION  2020-09-29  22:30  19.378762 -99.205488\n",
       "2  VIOLACION  2020-09-29  22:00  19.347971 -99.030162\n",
       "3  VIOLACION  2020-09-29  23:30  19.557311 -99.134166\n",
       "4  VIOLACION  2020-09-27  00:00  19.342125 -99.124280"
      ]
     },
     "execution_count": 3,
     "metadata": {},
     "output_type": "execute_result"
    }
   ],
   "source": [
    "crime.head()"
   ]
  },
  {
   "cell_type": "markdown",
   "metadata": {},
   "source": [
    "Voy a quitar las columnas que no me sirven."
   ]
  },
  {
   "cell_type": "code",
   "execution_count": 5,
   "metadata": {},
   "outputs": [],
   "source": [
    "crime.drop(['crime', 'date', 'hour'], axis = 1, inplace = True)"
   ]
  },
  {
   "cell_type": "code",
   "execution_count": 8,
   "metadata": {},
   "outputs": [
    {
     "data": {
      "text/plain": [
       "(31056, 2)"
      ]
     },
     "execution_count": 8,
     "metadata": {},
     "output_type": "execute_result"
    }
   ],
   "source": [
    "crime.shape"
   ]
  },
  {
   "cell_type": "markdown",
   "metadata": {},
   "source": [
    "Hago una pequeña modificación en la clase para que se calcule de manera más rápida el problema de las cámaras"
   ]
  },
  {
   "cell_type": "code",
   "execution_count": null,
   "metadata": {},
   "outputs": [],
   "source": [
    "class Optimizador:\n",
    "    epsilon = 0.00001\n",
    "    max_iter = 10\n",
    "    def __init__(self, epsilon = 0.00001, max_iter = 100):\n",
    "        self.epsilon = epsilon\n",
    "        self.max_iter = max_iter\n",
    "        self.printInstrucciones()\n",
    "    def printInstrucciones(self):\n",
    "        print('Para optimizar una función usa el método optimiza, donde f representa la función a optimizar, dimensión\\nrepresenta el tamaño del dominio de f, y Tipo representa el método a utilizar.')\n",
    "\n",
    "        print('Tipo == 0 utilizará BFGS')\n",
    "        print('Tipo == 1 utilizará una búsqueda lineal base')\n",
    "        print('Tipo == 2 utilizará el método de Newton con modificación a la Hessiana')\n",
    "        print('Tipo == 3 utilizará el método de Newton')\n",
    "    def optimiza(self, f, dimension, tipo):\n",
    "        x = np.zeros(dimension)\n",
    "        if tipo == 0 : # BFGS\n",
    "            return self.BFGS(f,x)\n",
    "        elif tipo == 1: #Line Base\n",
    "            return self.newton_line_base(f,x)\n",
    "        elif tipo == 2: #Newton with modification\n",
    "            return self.newton_mH(f,x)\n",
    "        elif tipo == 3:\n",
    "            return self.newton(f,x)\n",
    "        else:\n",
    "            print('\\nTipo no valido')\n",
    "            self.printInstrucciones()\n",
    "    def derivada_parcial(self,f, xk, pos):\n",
    "        eps = 0.0001\n",
    "        n = xk.size\n",
    "        h = np.zeros(n)\n",
    "        h[pos] += eps\n",
    "        return (f(xk + h) - f(xk)) / eps\n",
    "\n",
    "    def derivada(self, f, xk):\n",
    "        return (f(xk + self.epsilon) - f(xk))/self.epsilon\n",
    "\n",
    "    def gradiente(self, f, xk):\n",
    "        n = xk.size\n",
    "        res = np.zeros(n)\n",
    "        for i in range(n):\n",
    "            res[i] = self.derivada_parcial(f, xk, i)\n",
    "        return res\n",
    "\n",
    "    def segunda_derivada(self, f, xk, pos1, pos2):\n",
    "        n = xk.size\n",
    "        h = np.zeros(n)\n",
    "        h[pos2] += self.epsilon\n",
    "\n",
    "        def f_prima(x):\n",
    "            return self.derivada_parcial(f, x, pos1)\n",
    "\n",
    "        return self.derivada_parcial(f_prima, xk, pos2)\n",
    "\n",
    "    def hessiana(self, f, xk):\n",
    "        n = xk.size\n",
    "        res = np.zeros((n, n))\n",
    "        for i in range(n):\n",
    "            for j in range(i, n):\n",
    "                res[i][j] = self.segunda_derivada(f, xk, i, j)\n",
    "                res[j][i] = res[i][j]\n",
    "        return res\n",
    "\n",
    "    def is_pos_def(self, H):\n",
    "        return np.all(np.linalg.eigvals(H) > self.epsilon)\n",
    "\n",
    "    def condiciones_optimalidad(self, f, xk):\n",
    "        if (np.all(self.gradiente(f, xk) >= self.epsilon)):\n",
    "            return self.is_pos_def(self.hessiana(f, xk))\n",
    "        return False\n",
    "\n",
    "    def mk(self, f, xk, p):\n",
    "        pt = p.transpose()\n",
    "        return f(xk) + pt.dot(self.gradiente(f, xk)) + .5 * (pt.dot((self.hessiana(f, xk)).dot(p)))\n",
    "\n",
    "\n",
    "    def backtracking_line_search(self, f, xk, p, c=.001, ro=.5):\n",
    "        alpha = 1;\n",
    "        f_k = f(xk)\n",
    "        gr = self.gradiente(f, xk)\n",
    "        while f(xk + alpha * p) > f_k + c * alpha * gr.dot(p):\n",
    "            alpha *= ro;\n",
    "        return alpha\n",
    "    def make_pos_def(self,H):\n",
    "        n = H.shape[0]\n",
    "        Id = np.identity(n)\n",
    "        t = self.epsilon\n",
    "        while(not self.is_pos_def(H)):\n",
    "            H = H + t*Id\n",
    "            t= 2*t\n",
    "        return H\n",
    "\n",
    "    def zoom(self, a_low, a_high, phi, num=0, c1=0.0001, c2=0.9):\n",
    "        a_mid = (a_high + a_low)/2\n",
    "        if 20 < num:\n",
    "            return a_mid\n",
    "        if(phi(0) + c1*a_mid*(self.derivada(phi,0)) < phi(a_mid)) or (phi(a_low) <= phi(a_mid)):\n",
    "            return self.zoom(a_low, a_mid, phi, num+1)\n",
    "        else:\n",
    "            if abs(self.derivada(phi, a_mid)) <= (-1)*c2*self.derivada(phi,0):\n",
    "                return a_mid\n",
    "            if 0 <= self.derivada(phi, a_mid)*(a_high - a_low):\n",
    "                a_high = a_low\n",
    "            return self.zoom(a_mid, a_high, phi, num+1)\n",
    "\n",
    "\n",
    "    def BFGS(self, f, xk):\n",
    "        #tomamos H0 simplemente como la identidad, como sugiere el Nocedal.\n",
    "        n = xk.size\n",
    "        Id = np.identity(n)\n",
    "        Hk = Id\n",
    "        gr = self.gradiente(f,xk)\n",
    "        count = 0\n",
    "        while self.epsilon < la.norm(gr) and count < self.max_iter:\n",
    "            count = count +1\n",
    "            pk = (-1)*Hk.dot(gr)\n",
    "            al = self.backtracking_line_search(f,xk,pk)\n",
    "            xk_n = xk + al*pk\n",
    "            gr_n = self.gradiente(f,xk_n)\n",
    "            sk = np.array([xk_n - xk])\n",
    "            yk = np.array([gr_n-gr]) #hago yk una matriz de n*1\n",
    "            yk = yk.T #transpongo para que sean vector columna\n",
    "            sk = sk.T\n",
    "            if ((yk.T).dot(sk))[0][0] < self.epsilon:\n",
    "                ro = 1/self.epsilon\n",
    "            else:\n",
    "                ro = 1 /(((yk.T).dot(sk))[0][0])\n",
    "            Hk = (Id + ((-1)*ro*sk).dot(yk.T)).dot(Hk).dot(Id + ((-1)*ro*yk).dot(sk.T)) + (ro*sk).dot(sk.T)\n",
    "            xk = xk_n\n",
    "            gr = gr_n\n",
    "            if count%10 == 0:\n",
    "                print('ok')\n",
    "        return xk\n",
    "\n",
    "\n",
    "\n",
    "    def newton_mH(self, f, x):\n",
    "        eps = 0.0001\n",
    "        n = 1000\n",
    "        for i in range(self.max_iter):\n",
    "            B = self.make_pos_def(self.hessiana(f, x))\n",
    "            gr = self.gradiente(f, x)\n",
    "            p = np.linalg.solve(B, -1 * gr)\n",
    "\n",
    "            alpha = self.backtracking_line_search(f, x, p)\n",
    "            x += alpha * p\n",
    "        return x\n",
    "\n",
    "    def newton (self, f, x):\n",
    "        for i in range(self.max_iter):\n",
    "            B = self.hessiana(f, x)\n",
    "            gr = self.gradiente(f, x)\n",
    "            p = np.linalg.solve(B, -1 * gr)\n",
    "            alpha = self.backtracking_line_search(f, x, p)\n",
    "            x += alpha * p\n",
    "        return x\n",
    "\n",
    "    def line_base(self, f, xk, p, c1=0.0001, c2=0.9):\n",
    "        def phi(al):\n",
    "           return f(xk + al*p)\n",
    "        al1 = 0\n",
    "        al_max = 100\n",
    "        al2 = al_max /2\n",
    "        for i in range (50):\n",
    "            if (phi(0) + c1*al2*self.derivada(phi,0) < phi(al2))  or  (0 < i and phi(al1) <= phi(al2)):\n",
    "                return self.zoom(al1, al2, phi)\n",
    "            if abs(self.derivada(phi, al2)) <= (-1)*c2*self.derivada(phi,0):\n",
    "                return al2\n",
    "            if(0 <= self.derivada(phi,al2)):\n",
    "                return self.zoom(al2, al1, phi)\n",
    "            al1 = al2\n",
    "            al2 = (al_max + al1)/2\n",
    "        return al2\n",
    "\n",
    "    def newton_line_base(self, f, x):\n",
    "        eps = 0.0001\n",
    "        n = 1000\n",
    "        for i in range(self.max_iter):\n",
    "            B = self.hessiana(f, x)\n",
    "            gr = self.gradiente(f, x)\n",
    "            p = np.linalg.solve(B, -1 * gr)\n",
    "            alpha = self.line_base(f, x, p)\n",
    "            x += alpha * p\n",
    "        return x\n",
    "\n"
   ]
  },
  {
   "cell_type": "code",
   "execution_count": null,
   "metadata": {},
   "outputs": [],
   "source": [
    "o = Optimizador()"
   ]
  },
  {
   "cell_type": "code",
   "execution_count": 9,
   "metadata": {},
   "outputs": [],
   "source": [
    "def distancia(x1, y1, x2, y2):\n",
    "    return np.sqrt((x1-x2)**2 + (y1-y2)**2)"
   ]
  },
  {
   "cell_type": "markdown",
   "metadata": {},
   "source": [
    "Defino la función de las cámaras tal y como expliqué en el ReadMe, nótese que x[2i] es la latitud de la iésima cámara, así como x[2i +1] es la longitud de la iésima cámara."
   ]
  },
  {
   "cell_type": "code",
   "execution_count": 71,
   "metadata": {},
   "outputs": [],
   "source": [
    "def camara(x, pen = 5, R = 20):\n",
    "    \n",
    "    res = 0\n",
    "    i = 0\n",
    "    for i in range(10):\n",
    "        for j in range(50):\n",
    "            res = res + distancia(x[2*i],x[2*i+1], crime['lat'][j], crime['long'][j])\n",
    "    for i in range(10):\n",
    "        for j in range(i+1, 10):\n",
    "            dif = R - distancia(x[2*i], x[2*i +1], x[2*j], x[2*j +1])\n",
    "            if 0 < dif:\n",
    "                res = res + pen*dif\n",
    "    return res"
   ]
  },
  {
   "cell_type": "code",
   "execution_count": 74,
   "metadata": {},
   "outputs": [
    {
     "name": "stdout",
     "output_type": "stream",
     "text": [
      "ok\n",
      "ok\n",
      "ok\n",
      "ok\n",
      "ok\n",
      "ok\n",
      "ok\n",
      "ok\n",
      "ok\n",
      "ok\n"
     ]
    },
    {
     "data": {
      "text/plain": [
       "array([  76.13349522,  -59.56833462,   26.77658047,  -71.23263302,\n",
       "         43.18160134,  -85.32533915,    7.4305222 , -100.967819  ,\n",
       "         27.67946709,  -94.91765915,   23.55157738, -126.81067639,\n",
       "         16.8307711 , -102.91431736,   15.53264241, -101.94430247,\n",
       "         40.02499441,  -95.16750386,   59.55528064,  -31.86100511])"
      ]
     },
     "execution_count": 74,
     "metadata": {},
     "output_type": "execute_result"
    }
   ],
   "source": [
    "o.optimiza(camara,20,0)"
   ]
  },
  {
   "cell_type": "markdown",
   "metadata": {},
   "source": [
    "Este resultado me emociona mucho, por cuestiones de tiempo fue imposible probar el problema con los números originales, pero aquí pruebo con 20 cámaras y 50 crímenes, así como un radio de 20 y una penalización de 5 escogidos de manera arbitraria, se resuelve usando BFGS. El problema se resolvió correctamente y da las coordenadas de las cámaras que no se centran todas en un mismo lugar tal y como queríamos."
   ]
  },
  {
   "cell_type": "code",
   "execution_count": null,
   "metadata": {},
   "outputs": [],
   "source": []
  }
 ],
 "metadata": {
  "kernelspec": {
   "display_name": "Python 3",
   "language": "python",
   "name": "python3"
  },
  "language_info": {
   "codemirror_mode": {
    "name": "ipython",
    "version": 3
   },
   "file_extension": ".py",
   "mimetype": "text/x-python",
   "name": "python",
   "nbconvert_exporter": "python",
   "pygments_lexer": "ipython3",
   "version": "3.8.3"
  }
 },
 "nbformat": 4,
 "nbformat_minor": 4
}
